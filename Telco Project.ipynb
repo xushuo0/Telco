{
 "cells": [
  {
   "cell_type": "markdown",
   "id": "202002c3",
   "metadata": {},
   "source": [
    "# Telco Project\n",
    "## Author: Shuo Xu"
   ]
  },
  {
   "cell_type": "markdown",
   "id": "1e8e4d5e",
   "metadata": {},
   "source": [
    "#### Import Packages"
   ]
  },
  {
   "cell_type": "code",
   "execution_count": 1,
   "id": "6a28cd9b",
   "metadata": {},
   "outputs": [
    {
     "name": "stderr",
     "output_type": "stream",
     "text": [
      "Matplotlib is building the font cache; this may take a moment.\n"
     ]
    }
   ],
   "source": [
    "import pandas as pd\n",
    "import numpy as np\n",
    "from datetime import datetime\n",
    "import matplotlib.pyplot as plt\n",
    "import seaborn as sns\n",
    "sns.set_style(\"whitegrid\")"
   ]
  },
  {
   "cell_type": "markdown",
   "id": "5d054955",
   "metadata": {},
   "source": [
    "#### Import Data"
   ]
  },
  {
   "cell_type": "code",
   "execution_count": 37,
   "id": "65916b20",
   "metadata": {},
   "outputs": [],
   "source": [
    "df = pd.read_excel(\"Telco.xlsx\")"
   ]
  },
  {
   "cell_type": "code",
   "execution_count": 38,
   "id": "8b496406",
   "metadata": {},
   "outputs": [
    {
     "name": "stdout",
     "output_type": "stream",
     "text": [
      "This dataset has 7043 rows and 33 columns.\n"
     ]
    }
   ],
   "source": [
    "print(\"This dataset has {} rows and {} columns.\".format(df.shape[0],df.shape[1]))"
   ]
  },
  {
   "cell_type": "markdown",
   "id": "5c8e0bdf",
   "metadata": {},
   "source": [
    "#### Other than Churn Reason, this data set does not have missing values."
   ]
  },
  {
   "cell_type": "code",
   "execution_count": 39,
   "id": "7021b17c",
   "metadata": {},
   "outputs": [
    {
     "data": {
      "text/plain": [
       "CustomerID              0\n",
       "Count                   0\n",
       "Country                 0\n",
       "State                   0\n",
       "City                    0\n",
       "Zip Code                0\n",
       "Lat Long                0\n",
       "Latitude                0\n",
       "Longitude               0\n",
       "Gender                  0\n",
       "Senior Citizen          0\n",
       "Partner                 0\n",
       "Dependents              0\n",
       "Tenure Months           0\n",
       "Phone Service           0\n",
       "Multiple Lines          0\n",
       "Internet Service        0\n",
       "Online Security         0\n",
       "Online Backup           0\n",
       "Device Protection       0\n",
       "Tech Support            0\n",
       "Streaming TV            0\n",
       "Streaming Movies        0\n",
       "Contract                0\n",
       "Paperless Billing       0\n",
       "Payment Method          0\n",
       "Monthly Charges         0\n",
       "Total Charges           0\n",
       "Churn Label             0\n",
       "Churn Value             0\n",
       "Churn Score             0\n",
       "CLTV                    0\n",
       "Churn Reason         5174\n",
       "dtype: int64"
      ]
     },
     "execution_count": 39,
     "metadata": {},
     "output_type": "execute_result"
    }
   ],
   "source": [
    "df.isnull().sum()"
   ]
  },
  {
   "cell_type": "markdown",
   "id": "657bbf43",
   "metadata": {},
   "source": [
    "#### Explore the data"
   ]
  },
  {
   "cell_type": "code",
   "execution_count": 41,
   "id": "70428f4d",
   "metadata": {},
   "outputs": [
    {
     "name": "stdout",
     "output_type": "stream",
     "text": [
      "All observations are within ['United States'].\n"
     ]
    }
   ],
   "source": [
    "print(\"All observations are within {}.\".format(df.Country.unique()))"
   ]
  },
  {
   "cell_type": "code",
   "execution_count": 42,
   "id": "494e0726",
   "metadata": {},
   "outputs": [
    {
     "name": "stdout",
     "output_type": "stream",
     "text": [
      "All observations are within ['California'].\n"
     ]
    }
   ],
   "source": [
    "print(\"All observations are within {}.\".format(df.State.unique()))"
   ]
  },
  {
   "cell_type": "code",
   "execution_count": 85,
   "id": "108b9673",
   "metadata": {},
   "outputs": [
    {
     "name": "stdout",
     "output_type": "stream",
     "text": [
      "26.54 percent of observations churn from the company.\n",
      "We have an inbalanced dataset.\n"
     ]
    }
   ],
   "source": [
    "Total_Churn_Rate = round(df['Churn Value'].value_counts()[1]/(df['Churn Value'].value_counts()[0]+df['Churn Value'].value_counts()[1])*100,2)\n",
    "print(\"{} percent of observations churn from the company.\".format(Total_Churn_Rate))\n",
    "print(\"We have an inbalanced dataset.\")"
   ]
  },
  {
   "cell_type": "code",
   "execution_count": 119,
   "id": "3107da60",
   "metadata": {},
   "outputs": [],
   "source": [
    "def Churn_Rate_By_Sector(sector):\n",
    "    sector_dictionary = {}\n",
    "    sector_list = [x for x in df[sector].unique()]\n",
    "    for s in sector_list:\n",
    "        value_counts = df[df[sector]==s]['Churn Value'].value_counts()\n",
    "        if len(value_counts) == 2:\n",
    "            churn = value_counts[1]\n",
    "            not_churn = value_counts[0]\n",
    "        else:\n",
    "            value_counts\n",
    "        \n",
    "        rate = round(churn/(churn+not_churn),2)\n",
    "        sector_dictionary[s] = rate\n",
    "    return sector_dictionary"
   ]
  },
  {
   "cell_type": "markdown",
   "id": "9b0b878d",
   "metadata": {},
   "source": [
    "#### Female customers have slightly higher churn rates."
   ]
  },
  {
   "cell_type": "code",
   "execution_count": 131,
   "id": "990c68d1",
   "metadata": {},
   "outputs": [
    {
     "data": {
      "text/plain": [
       "<BarContainer object of 2 artists>"
      ]
     },
     "execution_count": 131,
     "metadata": {},
     "output_type": "execute_result"
    },
    {
     "data": {
      "image/png": "[encoded data removed]",
      "text/plain": [
       "<Figure size 432x288 with 1 Axes>"
      ]
     },
     "metadata": {},
     "output_type": "display_data"
    }
   ],
   "source": [
    "myDictionary = Churn_Rate_By_Sector('Gender')\n",
    "plt.bar(myDictionary.keys(), myDictionary.values(), color='blue')"
   ]
  },
  {
   "cell_type": "markdown",
   "id": "6b11b997",
   "metadata": {},
   "source": [
    "#### Senior customers have higher churn rates."
   ]
  },
  {
   "cell_type": "code",
   "execution_count": 132,
   "id": "ff34d9d3",
   "metadata": {},
   "outputs": [
    {
     "data": {
      "text/plain": [
       "<BarContainer object of 2 artists>"
      ]
     },
     "execution_count": 132,
     "metadata": {},
     "output_type": "execute_result"
    },
    {
     "data": {
      "image/png": "[encoded data removed]",
      "text/plain": [
       "<Figure size 432x288 with 1 Axes>"
      ]
     },
     "metadata": {},
     "output_type": "display_data"
    }
   ],
   "source": [
    "myDictionary = Churn_Rate_By_Sector('Senior Citizen')\n",
    "plt.bar(myDictionary.keys(), myDictionary.values(), color='blue')"
   ]
  },
  {
   "cell_type": "markdown",
   "id": "25e760f4",
   "metadata": {},
   "source": [
    "#### Customers who are single have higher churn rates."
   ]
  },
  {
   "cell_type": "code",
   "execution_count": 133,
   "id": "0234a143",
   "metadata": {},
   "outputs": [
    {
     "data": {
      "text/plain": [
       "<BarContainer object of 2 artists>"
      ]
     },
     "execution_count": 133,
     "metadata": {},
     "output_type": "execute_result"
    },
    {
     "data": {
      "image/png": "[encoded data removed]",
      "text/plain": [
       "<Figure size 432x288 with 1 Axes>"
      ]
     },
     "metadata": {},
     "output_type": "display_data"
    }
   ],
   "source": [
    "myDictionary = Churn_Rate_By_Sector('Partner')\n",
    "plt.bar(myDictionary.keys(), myDictionary.values(), color='blue')"
   ]
  },
  {
   "cell_type": "markdown",
   "id": "74779b66",
   "metadata": {},
   "source": [
    "#### Customers who do not have dependent have higher churn rates."
   ]
  },
  {
   "cell_type": "code",
   "execution_count": 134,
   "id": "16c501d9",
   "metadata": {},
   "outputs": [
    {
     "data": {
      "text/plain": [
       "<BarContainer object of 2 artists>"
      ]
     },
     "execution_count": 134,
     "metadata": {},
     "output_type": "execute_result"
    },
    {
     "data": {
      "image/png": "[encoded data removed]",
      "text/plain": [
       "<Figure size 432x288 with 1 Axes>"
      ]
     },
     "metadata": {},
     "output_type": "display_data"
    }
   ],
   "source": [
    "myDictionary = Churn_Rate_By_Sector('Dependents')\n",
    "plt.bar(myDictionary.keys(), myDictionary.values(), color='blue')"
   ]
  },
  {
   "cell_type": "markdown",
   "id": "2be2f063",
   "metadata": {},
   "source": [
    "#### Customers with a Month-to-month contract have higher churn rates"
   ]
  },
  {
   "cell_type": "code",
   "execution_count": 129,
   "id": "0956f52a",
   "metadata": {},
   "outputs": [
    {
     "data": {
      "text/plain": [
       "<BarContainer object of 3 artists>"
      ]
     },
     "execution_count": 129,
     "metadata": {},
     "output_type": "execute_result"
    },
    {
     "data": {
      "image/png": "[encoded data removed]",
      "text/plain": [
       "<Figure size 432x288 with 1 Axes>"
      ]
     },
     "metadata": {},
     "output_type": "display_data"
    }
   ],
   "source": [
    "myDictionary = Churn_Rate_By_Sector('Contract')\n",
    "plt.bar(myDictionary.keys(), myDictionary.values(), color='blue')"
   ]
  },
  {
   "cell_type": "code",
   "execution_count": 144,
   "id": "9373fb2b",
   "metadata": {},
   "outputs": [
    {
     "data": {
      "text/plain": [
       "0"
      ]
     },
     "execution_count": 144,
     "metadata": {},
     "output_type": "execute_result"
    }
   ],
   "source": [
    "test = [x for x in df['Tenure Months'].unique()]\n",
    "test[-1]"
   ]
  },
  {
   "cell_type": "code",
   "execution_count": 170,
   "id": "b4c8035a",
   "metadata": {},
   "outputs": [
    {
     "data": {
      "text/plain": [
       "0    2549\n",
       "1     939\n",
       "Name: Churn Value, dtype: int64"
      ]
     },
     "execution_count": 170,
     "metadata": {},
     "output_type": "execute_result"
    }
   ],
   "source": [
    "df[df['Gender']=='Female']['Churn Value'].value_counts()"
   ]
  },
  {
   "cell_type": "code",
   "execution_count": 111,
   "id": "7b28564f",
   "metadata": {},
   "outputs": [],
   "source": [
    "Columns = [x for x in df.columns]"
   ]
  },
  {
   "cell_type": "code",
   "execution_count": 118,
   "id": "826f58e0",
   "metadata": {},
   "outputs": [
    {
     "data": {
      "text/plain": [
       "(array([1., 0., 0., 0., 0., 0., 0., 0., 0., 1.]),\n",
       " array([0.24 , 0.258, 0.276, 0.294, 0.312, 0.33 , 0.348, 0.366, 0.384,\n",
       "        0.402, 0.42 ]),\n",
       " <BarContainer object of 10 artists>)"
      ]
     },
     "execution_count": 118,
     "metadata": {},
     "output_type": "execute_result"
    },
    {
     "data": {
      "image/png": "[encoded data removed]",
      "text/plain": [
       "<Figure size 432x288 with 1 Axes>"
      ]
     },
     "metadata": {},
     "output_type": "display_data"
    }
   ],
   "source": [
    "plt.hist(Churn_Rate_By_Sector('Senior Citizen'))"
   ]
  },
  {
   "cell_type": "code",
   "execution_count": 64,
   "id": "d0f128b8",
   "metadata": {},
   "outputs": [],
   "source": [
    "Cities = [x for x in df.City.unique()]"
   ]
  },
  {
   "cell_type": "code",
   "execution_count": 70,
   "id": "e6b27583",
   "metadata": {},
   "outputs": [],
   "source": [
    "City_Dict = {}\n",
    "for City in Cities:\n",
    "    City_Dict[City] = df[df['City']==City]['Count'].sum()"
   ]
  },
  {
   "cell_type": "code",
   "execution_count": 73,
   "id": "6d41e4db",
   "metadata": {},
   "outputs": [],
   "source": [
    "import operator\n",
    "City_Dict= dict(sorted(City_Dict.items(), key=operator.itemgetter(1),reverse=True))"
   ]
  },
  {
   "cell_type": "code",
   "execution_count": 76,
   "id": "d02b6c32",
   "metadata": {},
   "outputs": [
    {
     "data": {
      "text/plain": [
       "5174"
      ]
     },
     "execution_count": 76,
     "metadata": {},
     "output_type": "execute_result"
    }
   ],
   "source": []
  },
  {
   "cell_type": "code",
   "execution_count": null,
   "id": "78bca636",
   "metadata": {},
   "outputs": [],
   "source": []
  }
 ],
 "metadata": {
  "kernelspec": {
   "display_name": "Python 3",
   "language": "python",
   "name": "python3"
  },
  "language_info": {
   "codemirror_mode": {
    "name": "ipython",
    "version": 3
   },
   "file_extension": ".py",
   "mimetype": "text/x-python",
   "name": "python",
   "nbconvert_exporter": "python",
   "pygments_lexer": "ipython3",
   "version": "3.8.8"
  }
 },
 "nbformat": 4,
 "nbformat_minor": 5
}
