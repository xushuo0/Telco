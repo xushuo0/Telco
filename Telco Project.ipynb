{
 "cells": [
  {
   "cell_type": "markdown",
   "id": "2f086216",
   "metadata": {},
   "source": [
    "# Telco Project\n",
    "## Author: Shuo Xu"
   ]
  },
  {
   "cell_type": "markdown",
   "id": "02d1d03a",
   "metadata": {},
   "source": [
    "#### Import Packages"
   ]
  },
  {
   "cell_type": "code",
   "execution_count": 1,
   "id": "ada59279",
   "metadata": {},
   "outputs": [
    {
     "name": "stderr",
     "output_type": "stream",
     "text": [
      "Matplotlib is building the font cache; this may take a moment.\n"
     ]
    }
   ],
   "source": [
    "import pandas as pd\n",
    "import numpy as np\n",
    "from datetime import datetime\n",
    "import matplotlib.pyplot as plt\n",
    "import seaborn as sns\n",
    "sns.set_style(\"whitegrid\")"
   ]
  },
  {
   "cell_type": "markdown",
   "id": "1ca32dfc",
   "metadata": {},
   "source": [
    "#### Import Data"
   ]
  },
  {
   "cell_type": "code",
   "execution_count": 37,
   "id": "6c122479",
   "metadata": {},
   "outputs": [],
   "source": [
    "df = pd.read_excel(\"Telco.xlsx\")"
   ]
  },
  {
   "cell_type": "code",
   "execution_count": 38,
   "id": "2bbe161e",
   "metadata": {},
   "outputs": [
    {
     "name": "stdout",
     "output_type": "stream",
     "text": [
      "This dataset has 7043 rows and 33 columns.\n"
     ]
    }
   ],
   "source": [
    "print(\"This dataset has {} rows and {} columns.\".format(df.shape[0],df.shape[1]))"
   ]
  },
  {
   "cell_type": "markdown",
   "id": "0d498f79",
   "metadata": {},
   "source": [
    "#### Other than Churn Reason, this data set does not have missing values."
   ]
  },
  {
   "cell_type": "code",
   "execution_count": 39,
   "id": "f388f6f1",
   "metadata": {},
   "outputs": [
    {
     "data": {
      "text/plain": [
       "CustomerID              0\n",
       "Count                   0\n",
       "Country                 0\n",
       "State                   0\n",
       "City                    0\n",
       "Zip Code                0\n",
       "Lat Long                0\n",
       "Latitude                0\n",
       "Longitude               0\n",
       "Gender                  0\n",
       "Senior Citizen          0\n",
       "Partner                 0\n",
       "Dependents              0\n",
       "Tenure Months           0\n",
       "Phone Service           0\n",
       "Multiple Lines          0\n",
       "Internet Service        0\n",
       "Online Security         0\n",
       "Online Backup           0\n",
       "Device Protection       0\n",
       "Tech Support            0\n",
       "Streaming TV            0\n",
       "Streaming Movies        0\n",
       "Contract                0\n",
       "Paperless Billing       0\n",
       "Payment Method          0\n",
       "Monthly Charges         0\n",
       "Total Charges           0\n",
       "Churn Label             0\n",
       "Churn Value             0\n",
       "Churn Score             0\n",
       "CLTV                    0\n",
       "Churn Reason         5174\n",
       "dtype: int64"
      ]
     },
     "execution_count": 39,
     "metadata": {},
     "output_type": "execute_result"
    }
   ],
   "source": [
    "df.isnull().sum()"
   ]
  },
  {
   "cell_type": "markdown",
   "id": "bd3fd8bb",
   "metadata": {},
   "source": [
    "#### Explore the data"
   ]
  },
  {
   "cell_type": "code",
   "execution_count": 41,
   "id": "51895958",
   "metadata": {},
   "outputs": [
    {
     "name": "stdout",
     "output_type": "stream",
     "text": [
      "All observations are within ['United States'].\n"
     ]
    }
   ],
   "source": [
    "print(\"All observations are within {}.\".format(df.Country.unique()))"
   ]
  },
  {
   "cell_type": "code",
   "execution_count": 42,
   "id": "1ea53f14",
   "metadata": {},
   "outputs": [
    {
     "name": "stdout",
     "output_type": "stream",
     "text": [
      "All observations are within ['California'].\n"
     ]
    }
   ],
   "source": [
    "print(\"All observations are within {}.\".format(df.State.unique()))"
   ]
  },
  {
   "cell_type": "code",
   "execution_count": 85,
   "id": "fca05102",
   "metadata": {},
   "outputs": [
    {
     "name": "stdout",
     "output_type": "stream",
     "text": [
      "26.54 percent of observations churn from the company.\n",
      "We have an inbalanced dataset.\n"
     ]
    }
   ],
   "source": [
    "Total_Churn_Rate = round(df['Churn Value'].value_counts()[1]/(df['Churn Value'].value_counts()[0]+df['Churn Value'].value_counts()[1])*100,2)\n",
    "print(\"{} percent of observations churn from the company.\".format(Total_Churn_Rate))\n",
    "print(\"We have an inbalanced dataset.\")"
   ]
  },
  {
   "cell_type": "markdown",
   "id": "0e4f9c24",
   "metadata": {},
   "source": [
    "### Reminder: 'Churn' means a customer left the company in \"THIS\" quarter. The customer can come back in the future."
   ]
  },
  {
   "cell_type": "markdown",
   "id": "c93ac0c7",
   "metadata": {},
   "source": [
    "#### Let's look at how the churn rates are differed by each feature."
   ]
  },
  {
   "cell_type": "code",
   "execution_count": 200,
   "id": "bb6bc27d",
   "metadata": {},
   "outputs": [],
   "source": [
    "def Churn_Rate_By_Sector(sector):\n",
    "    sector_dictionary = {}\n",
    "    sector_list = [x for x in df[sector].unique()]\n",
    "    for s in sector_list:\n",
    "        value_counts = df[df[sector]==s]['Churn Value'].value_counts()\n",
    "        if len(value_counts)==2:\n",
    "            if value_counts.index[0]==1:\n",
    "                churn = value_counts[0]\n",
    "                not_churn = value_counts[1]\n",
    "                rate = round(churn/(churn+not_churn),2)\n",
    "            else:\n",
    "                churn = value_counts[1]\n",
    "                not_churn = value_counts[0]\n",
    "                rate = round(churn/(churn+not_churn),2)\n",
    "        else:\n",
    "            if value_counts.index[0]==0:\n",
    "                rate = 0\n",
    "            else:\n",
    "                rate = 1\n",
    "        sector_dictionary[s] = rate\n",
    "    return sector_dictionary"
   ]
  },
  {
   "cell_type": "markdown",
   "id": "454f6d79",
   "metadata": {},
   "source": [
    "#### Female customers have slightly higher churn rates."
   ]
  },
  {
   "cell_type": "code",
   "execution_count": 202,
   "id": "233055e5",
   "metadata": {},
   "outputs": [
    {
     "data": {
      "text/plain": [
       "<BarContainer object of 2 artists>"
      ]
     },
     "execution_count": 202,
     "metadata": {},
     "output_type": "execute_result"
    },
    {
     "data": {
      "image/png": "[encoded data removed]",
      "text/plain": [
       "<Figure size 432x288 with 1 Axes>"
      ]
     },
     "metadata": {},
     "output_type": "display_data"
    }
   ],
   "source": [
    "myDictionary = Churn_Rate_By_Sector('Gender')\n",
    "plt.bar(myDictionary.keys(), myDictionary.values(), color='blue')"
   ]
  },
  {
   "cell_type": "markdown",
   "id": "e78329ab",
   "metadata": {},
   "source": [
    "#### Senior customers have higher churn rates."
   ]
  },
  {
   "cell_type": "code",
   "execution_count": 203,
   "id": "4cfa19d8",
   "metadata": {},
   "outputs": [
    {
     "data": {
      "text/plain": [
       "<BarContainer object of 2 artists>"
      ]
     },
     "execution_count": 203,
     "metadata": {},
     "output_type": "execute_result"
    },
    {
     "data": {
      "image/png": "[encoded data removed]",
      "text/plain": [
       "<Figure size 432x288 with 1 Axes>"
      ]
     },
     "metadata": {},
     "output_type": "display_data"
    }
   ],
   "source": [
    "myDictionary = Churn_Rate_By_Sector('Senior Citizen')\n",
    "plt.bar(myDictionary.keys(), myDictionary.values(), color='blue')"
   ]
  },
  {
   "cell_type": "markdown",
   "id": "57a2e432",
   "metadata": {},
   "source": [
    "#### Customers who are single have higher churn rates."
   ]
  },
  {
   "cell_type": "code",
   "execution_count": 204,
   "id": "5eab6608",
   "metadata": {},
   "outputs": [
    {
     "data": {
      "text/plain": [
       "<BarContainer object of 2 artists>"
      ]
     },
     "execution_count": 204,
     "metadata": {},
     "output_type": "execute_result"
    },
    {
     "data": {
      "image/png": "[encoded data removed]",
      "text/plain": [
       "<Figure size 432x288 with 1 Axes>"
      ]
     },
     "metadata": {},
     "output_type": "display_data"
    }
   ],
   "source": [
    "myDictionary = Churn_Rate_By_Sector('Partner')\n",
    "plt.bar(myDictionary.keys(), myDictionary.values(), color='blue')"
   ]
  },
  {
   "cell_type": "markdown",
   "id": "f588ff9f",
   "metadata": {},
   "source": [
    "#### Customers who do not have dependent have higher churn rates."
   ]
  },
  {
   "cell_type": "code",
   "execution_count": 205,
   "id": "aa6b0229",
   "metadata": {},
   "outputs": [
    {
     "data": {
      "text/plain": [
       "<BarContainer object of 2 artists>"
      ]
     },
     "execution_count": 205,
     "metadata": {},
     "output_type": "execute_result"
    },
    {
     "data": {
      "image/png": "[encoded data removed]",
      "text/plain": [
       "<Figure size 432x288 with 1 Axes>"
      ]
     },
     "metadata": {},
     "output_type": "display_data"
    }
   ],
   "source": [
    "myDictionary = Churn_Rate_By_Sector('Dependents')\n",
    "plt.bar(myDictionary.keys(), myDictionary.values(), color='blue')"
   ]
  },
  {
   "cell_type": "markdown",
   "id": "88f11a59",
   "metadata": {},
   "source": [
    "#### Customers with a Month-to-month contract have higher churn rates"
   ]
  },
  {
   "cell_type": "code",
   "execution_count": 206,
   "id": "8bb7ba38",
   "metadata": {},
   "outputs": [
    {
     "data": {
      "text/plain": [
       "<BarContainer object of 3 artists>"
      ]
     },
     "execution_count": 206,
     "metadata": {},
     "output_type": "execute_result"
    },
    {
     "data": {
      "image/png": "[encoded data removed]",
      "text/plain": [
       "<Figure size 432x288 with 1 Axes>"
      ]
     },
     "metadata": {},
     "output_type": "display_data"
    }
   ],
   "source": [
    "myDictionary = Churn_Rate_By_Sector('Contract')\n",
    "plt.bar(myDictionary.keys(), myDictionary.values(), color='blue')"
   ]
  },
  {
   "cell_type": "markdown",
   "id": "c46e3495",
   "metadata": {},
   "source": [
    "#### Customers with shorter Tenure Months have higher churn rates."
   ]
  },
  {
   "cell_type": "code",
   "execution_count": 207,
   "id": "0233f620",
   "metadata": {},
   "outputs": [
    {
     "data": {
      "text/plain": [
       "<BarContainer object of 73 artists>"
      ]
     },
     "execution_count": 207,
     "metadata": {},
     "output_type": "execute_result"
    },
    {
     "data": {
      "image/png": "[encoded data removed]",
      "text/plain": [
       "<Figure size 432x288 with 1 Axes>"
      ]
     },
     "metadata": {},
     "output_type": "display_data"
    }
   ],
   "source": [
    "myDictionary = Churn_Rate_By_Sector('Tenure Months')\n",
    "plt.bar(myDictionary.keys(), myDictionary.values(), color='blue')"
   ]
  },
  {
   "cell_type": "markdown",
   "id": "2baab563",
   "metadata": {},
   "source": [
    "#### Customers who subscribe phone service have higher churn rates."
   ]
  },
  {
   "cell_type": "code",
   "execution_count": 208,
   "id": "647366a2",
   "metadata": {},
   "outputs": [
    {
     "data": {
      "text/plain": [
       "<BarContainer object of 2 artists>"
      ]
     },
     "execution_count": 208,
     "metadata": {},
     "output_type": "execute_result"
    },
    {
     "data": {
      "image/png": "[encoded data removed]",
      "text/plain": [
       "<Figure size 432x288 with 1 Axes>"
      ]
     },
     "metadata": {},
     "output_type": "display_data"
    }
   ],
   "source": [
    "myDictionary = Churn_Rate_By_Sector('Phone Service')\n",
    "plt.bar(myDictionary.keys(), myDictionary.values(), color='blue')"
   ]
  },
  {
   "cell_type": "markdown",
   "id": "c20878a0",
   "metadata": {},
   "source": [
    "#### Customers who subscribe multiple phone services have higher churn rates. This explain the driving force of the above graph."
   ]
  },
  {
   "cell_type": "code",
   "execution_count": 209,
   "id": "59da4110",
   "metadata": {},
   "outputs": [
    {
     "data": {
      "text/plain": [
       "<BarContainer object of 3 artists>"
      ]
     },
     "execution_count": 209,
     "metadata": {},
     "output_type": "execute_result"
    },
    {
     "data": {
      "image/png": "[encoded data removed]",
      "text/plain": [
       "<Figure size 432x288 with 1 Axes>"
      ]
     },
     "metadata": {},
     "output_type": "display_data"
    }
   ],
   "source": [
    "myDictionary = Churn_Rate_By_Sector('Multiple Lines')\n",
    "plt.bar(myDictionary.keys(), myDictionary.values(), color='blue')"
   ]
  },
  {
   "cell_type": "markdown",
   "id": "8b7f4914",
   "metadata": {},
   "source": [
    "#### Customers who subscribe Fiber Optic Internet Service have higher churn rates."
   ]
  },
  {
   "cell_type": "code",
   "execution_count": 210,
   "id": "b80b1638",
   "metadata": {},
   "outputs": [
    {
     "data": {
      "text/plain": [
       "<BarContainer object of 3 artists>"
      ]
     },
     "execution_count": 210,
     "metadata": {},
     "output_type": "execute_result"
    },
    {
     "data": {
      "image/png": "[encoded data removed]",
      "text/plain": [
       "<Figure size 432x288 with 1 Axes>"
      ]
     },
     "metadata": {},
     "output_type": "display_data"
    }
   ],
   "source": [
    "myDictionary = Churn_Rate_By_Sector('Internet Service')\n",
    "plt.bar(myDictionary.keys(), myDictionary.values(), color='blue')"
   ]
  },
  {
   "cell_type": "markdown",
   "id": "a6ac446c",
   "metadata": {},
   "source": [
    "#### Among customers who subscribe internet services, customer who do not subscribe to online security have higher churn rates."
   ]
  },
  {
   "cell_type": "code",
   "execution_count": 213,
   "id": "90de7617",
   "metadata": {},
   "outputs": [
    {
     "data": {
      "text/plain": [
       "<BarContainer object of 3 artists>"
      ]
     },
     "execution_count": 213,
     "metadata": {},
     "output_type": "execute_result"
    },
    {
     "data": {
      "image/png": "[encoded data removed]",
      "text/plain": [
       "<Figure size 432x288 with 1 Axes>"
      ]
     },
     "metadata": {},
     "output_type": "display_data"
    }
   ],
   "source": [
    "myDictionary = Churn_Rate_By_Sector('Online Security')\n",
    "plt.bar(myDictionary.keys(), myDictionary.values(), color='blue')"
   ]
  },
  {
   "cell_type": "markdown",
   "id": "5252eac3",
   "metadata": {},
   "source": [
    "#### Among customers who subscribe internet services, customers who do not subscribe to online backup have higher churn rates."
   ]
  },
  {
   "cell_type": "code",
   "execution_count": 215,
   "id": "d717984e",
   "metadata": {},
   "outputs": [
    {
     "data": {
      "text/plain": [
       "<BarContainer object of 3 artists>"
      ]
     },
     "execution_count": 215,
     "metadata": {},
     "output_type": "execute_result"
    },
    {
     "data": {
      "image/png": "[encoded data removed]",
      "text/plain": [
       "<Figure size 432x288 with 1 Axes>"
      ]
     },
     "metadata": {},
     "output_type": "display_data"
    }
   ],
   "source": [
    "myDictionary = Churn_Rate_By_Sector('Online Backup')\n",
    "plt.bar(myDictionary.keys(), myDictionary.values(), color='blue')"
   ]
  },
  {
   "cell_type": "markdown",
   "id": "0209aa41",
   "metadata": {},
   "source": [
    "#### Customers who do not subscribe to additional device protection plan have higher churn rates."
   ]
  },
  {
   "cell_type": "code",
   "execution_count": 216,
   "id": "46346297",
   "metadata": {},
   "outputs": [
    {
     "data": {
      "text/plain": [
       "<BarContainer object of 3 artists>"
      ]
     },
     "execution_count": 216,
     "metadata": {},
     "output_type": "execute_result"
    },
    {
     "data": {
      "image/png": "[encoded data removed]",
      "text/plain": [
       "<Figure size 432x288 with 1 Axes>"
      ]
     },
     "metadata": {},
     "output_type": "display_data"
    }
   ],
   "source": [
    "myDictionary = Churn_Rate_By_Sector('Device Protection')\n",
    "plt.bar(myDictionary.keys(), myDictionary.values(), color='blue')"
   ]
  },
  {
   "cell_type": "markdown",
   "id": "c5fb11a9",
   "metadata": {},
   "source": [
    "#### Customers who do not subscribe to tech support have higher churn rates."
   ]
  },
  {
   "cell_type": "code",
   "execution_count": 217,
   "id": "17ed0904",
   "metadata": {},
   "outputs": [
    {
     "data": {
      "text/plain": [
       "<BarContainer object of 3 artists>"
      ]
     },
     "execution_count": 217,
     "metadata": {},
     "output_type": "execute_result"
    },
    {
     "data": {
      "image/png": "[encoded data removed]",
      "text/plain": [
       "<Figure size 432x288 with 1 Axes>"
      ]
     },
     "metadata": {},
     "output_type": "display_data"
    }
   ],
   "source": [
    "myDictionary = Churn_Rate_By_Sector('Tech Support')\n",
    "plt.bar(myDictionary.keys(), myDictionary.values(), color='blue')"
   ]
  },
  {
   "cell_type": "markdown",
   "id": "9deb18ad",
   "metadata": {},
   "source": [
    "#### Customers who do not use internet to stream TV have higher churn rates."
   ]
  },
  {
   "cell_type": "code",
   "execution_count": 218,
   "id": "cd9eb8f7",
   "metadata": {},
   "outputs": [
    {
     "data": {
      "text/plain": [
       "<BarContainer object of 3 artists>"
      ]
     },
     "execution_count": 218,
     "metadata": {},
     "output_type": "execute_result"
    },
    {
     "data": {
      "image/png": "[encoded data removed]",
      "text/plain": [
       "<Figure size 432x288 with 1 Axes>"
      ]
     },
     "metadata": {},
     "output_type": "display_data"
    }
   ],
   "source": [
    "myDictionary = Churn_Rate_By_Sector('Streaming TV')\n",
    "plt.bar(myDictionary.keys(), myDictionary.values(), color='blue')"
   ]
  },
  {
   "cell_type": "markdown",
   "id": "372b693c",
   "metadata": {},
   "source": [
    "#### Customers who do not use internet to stream Movies have higher churn rates."
   ]
  },
  {
   "cell_type": "code",
   "execution_count": 219,
   "id": "c31d4bd6",
   "metadata": {},
   "outputs": [
    {
     "data": {
      "text/plain": [
       "<BarContainer object of 3 artists>"
      ]
     },
     "execution_count": 219,
     "metadata": {},
     "output_type": "execute_result"
    },
    {
     "data": {
      "image/png": "[encoded data removed]",
      "text/plain": [
       "<Figure size 432x288 with 1 Axes>"
      ]
     },
     "metadata": {},
     "output_type": "display_data"
    }
   ],
   "source": [
    "myDictionary = Churn_Rate_By_Sector('Streaming Movies')\n",
    "plt.bar(myDictionary.keys(), myDictionary.values(), color='blue')"
   ]
  },
  {
   "cell_type": "markdown",
   "id": "e2858bb6",
   "metadata": {},
   "source": [
    "#### Customers who use paperless billing have higher churn rates."
   ]
  },
  {
   "cell_type": "code",
   "execution_count": 221,
   "id": "583e9e01",
   "metadata": {},
   "outputs": [
    {
     "data": {
      "text/plain": [
       "<BarContainer object of 2 artists>"
      ]
     },
     "execution_count": 221,
     "metadata": {},
     "output_type": "execute_result"
    },
    {
     "data": {
      "image/png": "[encoded data removed]",
      "text/plain": [
       "<Figure size 432x288 with 1 Axes>"
      ]
     },
     "metadata": {},
     "output_type": "display_data"
    }
   ],
   "source": [
    "myDictionary = Churn_Rate_By_Sector('Paperless Billing')\n",
    "plt.bar(myDictionary.keys(), myDictionary.values(), color='blue')"
   ]
  },
  {
   "cell_type": "markdown",
   "id": "3d108ad8",
   "metadata": {},
   "source": [
    "#### Customers who pay in electronic check have higher churn rates."
   ]
  },
  {
   "cell_type": "code",
   "execution_count": 223,
   "id": "8e7b0cbe",
   "metadata": {},
   "outputs": [
    {
     "data": {
      "text/plain": [
       "<BarContainer object of 4 artists>"
      ]
     },
     "execution_count": 223,
     "metadata": {},
     "output_type": "execute_result"
    },
    {
     "data": {
      "image/png": "[encoded data removed]",
      "text/plain": [
       "<Figure size 432x288 with 1 Axes>"
      ]
     },
     "metadata": {},
     "output_type": "display_data"
    }
   ],
   "source": [
    "myDictionary = Churn_Rate_By_Sector('Payment Method')\n",
    "plt.bar(myDictionary.keys(), myDictionary.values(), color='blue')"
   ]
  }
 ],
 "metadata": {
  "kernelspec": {
   "display_name": "Python 3",
   "language": "python",
   "name": "python3"
  },
  "language_info": {
   "codemirror_mode": {
    "name": "ipython",
    "version": 3
   },
   "file_extension": ".py",
   "mimetype": "text/x-python",
   "name": "python",
   "nbconvert_exporter": "python",
   "pygments_lexer": "ipython3",
   "version": "3.8.8"
  }
 },
 "nbformat": 4,
 "nbformat_minor": 5
}
